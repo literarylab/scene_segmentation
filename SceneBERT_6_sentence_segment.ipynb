{
 "cells": [
  {
   "cell_type": "markdown",
   "id": "534724630f3270bb",
   "metadata": {
    "collapsed": false,
    "jupyter": {
     "outputs_hidden": false
    }
   },
   "source": [
    "# SceneBERT\n",
    "# English USE/BERT Model for Scene Change Detection"
   ]
  },
  {
   "cell_type": "code",
   "execution_count": 1,
   "id": "bd918ed6750d5558",
   "metadata": {
    "ExecuteTime": {
     "end_time": "2025-03-14T11:30:05.947440Z",
     "start_time": "2025-03-14T11:30:05.944285Z"
    },
    "collapsed": false,
    "jupyter": {
     "outputs_hidden": false
    }
   },
   "outputs": [],
   "source": [
    "import os\n",
    "os.environ['TF_USE_LEGACY_KERAS']='1'"
   ]
  },
  {
   "cell_type": "markdown",
   "id": "d8b0087177239436",
   "metadata": {
    "collapsed": false,
    "jupyter": {
     "outputs_hidden": false
    }
   },
   "source": [
    "### Read in and prepare the data."
   ]
  },
  {
   "cell_type": "code",
   "execution_count": 8,
   "id": "6d217dba51afd0fb",
   "metadata": {
    "ExecuteTime": {
     "end_time": "2025-03-14T11:33:03.492320Z",
     "start_time": "2025-03-14T11:33:02.999393Z"
    },
    "collapsed": false,
    "jupyter": {
     "outputs_hidden": false
    }
   },
   "outputs": [
    {
     "name": "stdout",
     "output_type": "stream",
     "text": [
      "Loaded: 9783838713625.txt_segments.xlsx\n",
      "Loaded: Warriors_Embrace_MISSISSIPPI.txt_segments.xlsx\n",
      "Loaded: Pros_and_Cons_MASSACHUSETTS.txt_segments.xlsx\n",
      "Loaded: 9783732596881.txt_segments.xlsx\n",
      "Loaded: 9783732586875.txt_segments.xlsx\n",
      "Loaded: 9783732596249.txt_segments.xlsx\n",
      "Loaded: Love_by_Proxy_ILLINOIS.txt_segments.xlsx\n",
      "Loaded: 9783732557905.txt_segments.xlsx\n",
      "Loaded: Tangled_Lies_HAWAII.txt_segments.xlsx\n",
      "Loaded: 9783732591725.txt_segments.xlsx\n",
      "Loaded: 9783838721675.txt_segments.xlsx\n",
      "Loaded: Midnight_Wishes_WYOMING.txt_segments.xlsx\n",
      "Loaded: 9783732584017.txt_segments.xlsx\n",
      "Loaded: 9783732597314.txt_segments.xlsx\n",
      "Loaded: Cowboy_Be_Mine_TEXAS.txt_segments.xlsx\n",
      "Loaded: Too_Near_the_Fire_OHIO.txt_segments.xlsx\n",
      "Loaded: 9783732502929.txt_segments.xlsx\n",
      "Loaded: Deceptions_CALIFORNIA_SG.txt_segments.xlsx\n",
      "Loaded: 9783732522033.txt_segments.xlsx\n",
      "Loaded: 9783740941093.txt_segments.xlsx\n",
      "Loaded: 9783740965716.txt_segments.xlsx\n",
      "Loaded: Found_his_perfect_wife_ALASKA_SG.txt_segments.xlsx\n",
      "Loaded: 9783732517695.txt_segments.xlsx\n",
      "Loaded: 9783732535200.txt_segments.xlsx\n",
      "Loaded: 9783845397535.txt_segments.xlsx\n",
      "Loaded: 9783838727868.txt_segments.xlsx\n",
      "Loaded: Finders_Keepers_VERMONT.txt_segments.xlsx\n",
      "Loaded: 9783732591732.txt_segments.xlsx\n",
      "Loaded: 9783732596546.txt_segments.xlsx\n",
      "Loaded: 9783740950484.txt_segments.xlsx\n"
     ]
    }
   ],
   "source": [
    "import pandas as pd\n",
    "import os\n",
    "\n",
    "def read_xlsx_files_from_folder(folder_path):\n",
    "    \"\"\"Reads all .xlsx files from the given folder and returns a list of DataFrames.\"\"\"\n",
    "    all_dfs = []  # List to store DataFrames\n",
    "    for file_name in os.listdir(folder_path):\n",
    "        if file_name.endswith(\".xlsx\"):  # Process only .xlsx files\n",
    "            file_path = os.path.join(folder_path, file_name)\n",
    "            df = pd.read_excel(file_path)\n",
    "            all_dfs.append(df)  # Append the DataFrame to the list\n",
    "            print(f\"Loaded: {file_name}\")\n",
    "    return all_dfs\n",
    "\n",
    "# Example usage on 6 sentence segments\n",
    "folder_path = '/Users/.../6_sentences_segmented_combined_TrainingSet'  # Replace with your folder path\n",
    "\n",
    "# Read all Excel files from the folder\n",
    "dfs = read_xlsx_files_from_folder(folder_path)\n",
    "\n",
    "# Optionally, combine all DataFrames into a single one (if desired)\n",
    "df_scene6 = pd.concat(dfs, ignore_index=True)\n",
    "\n"
   ]
  },
  {
   "cell_type": "code",
   "execution_count": 9,
   "id": "99a52b198ee2d2ee",
   "metadata": {
    "ExecuteTime": {
     "end_time": "2025-03-14T11:33:07.983592Z",
     "start_time": "2025-03-14T11:33:07.980218Z"
    },
    "collapsed": false,
    "jupyter": {
     "outputs_hidden": false
    }
   },
   "outputs": [
    {
     "data": {
      "text/html": [
       "<div>\n",
       "<style scoped>\n",
       "    .dataframe tbody tr th:only-of-type {\n",
       "        vertical-align: middle;\n",
       "    }\n",
       "\n",
       "    .dataframe tbody tr th {\n",
       "        vertical-align: top;\n",
       "    }\n",
       "\n",
       "    .dataframe thead th {\n",
       "        text-align: right;\n",
       "    }\n",
       "</style>\n",
       "<table border=\"1\" class=\"dataframe\">\n",
       "  <thead>\n",
       "    <tr style=\"text-align: right;\">\n",
       "      <th></th>\n",
       "      <th>Segment</th>\n",
       "      <th>scene-change</th>\n",
       "    </tr>\n",
       "  </thead>\n",
       "  <tbody>\n",
       "    <tr>\n",
       "      <th>0</th>\n",
       "      <td>Ah Ahaual, ruler of the Mayan city of Ah Kin P...</td>\n",
       "      <td>yes</td>\n",
       "    </tr>\n",
       "    <tr>\n",
       "      <th>1</th>\n",
       "      <td>He cleared away the obstacles and uncovered th...</td>\n",
       "      <td>yes</td>\n",
       "    </tr>\n",
       "    <tr>\n",
       "      <th>2</th>\n",
       "      <td>The darkness receded before the flickering glo...</td>\n",
       "      <td>no</td>\n",
       "    </tr>\n",
       "    <tr>\n",
       "      <th>3</th>\n",
       "      <td>Then he pulled the torch head back enough to b...</td>\n",
       "      <td>no</td>\n",
       "    </tr>\n",
       "    <tr>\n",
       "      <th>4</th>\n",
       "      <td>The Sky Stone. To Ts'onot, the \"White God\" had...</td>\n",
       "      <td>no</td>\n",
       "    </tr>\n",
       "    <tr>\n",
       "      <th>...</th>\n",
       "      <td>...</td>\n",
       "      <td>...</td>\n",
       "    </tr>\n",
       "    <tr>\n",
       "      <th>17099</th>\n",
       "      <td>Luis had had a long telephone conversation wit...</td>\n",
       "      <td>yes</td>\n",
       "    </tr>\n",
       "    <tr>\n",
       "      <th>17100</th>\n",
       "      <td>And they now had something to rack their brain...</td>\n",
       "      <td>no</td>\n",
       "    </tr>\n",
       "    <tr>\n",
       "      <th>17101</th>\n",
       "      <td>\"Time will tell,\" Mrs. Rennert agreed. \"But be...</td>\n",
       "      <td>no</td>\n",
       "    </tr>\n",
       "    <tr>\n",
       "      <th>17102</th>\n",
       "      <td>\"Well, let's see what the future holds for us,...</td>\n",
       "      <td>no</td>\n",
       "    </tr>\n",
       "    <tr>\n",
       "      <th>17103</th>\n",
       "      <td>\"I don't like it when you have to break up aga...</td>\n",
       "      <td>no</td>\n",
       "    </tr>\n",
       "  </tbody>\n",
       "</table>\n",
       "<p>17104 rows × 2 columns</p>\n",
       "</div>"
      ],
      "text/plain": [
       "                                                 Segment scene-change\n",
       "0      Ah Ahaual, ruler of the Mayan city of Ah Kin P...          yes\n",
       "1      He cleared away the obstacles and uncovered th...          yes\n",
       "2      The darkness receded before the flickering glo...           no\n",
       "3      Then he pulled the torch head back enough to b...           no\n",
       "4      The Sky Stone. To Ts'onot, the \"White God\" had...           no\n",
       "...                                                  ...          ...\n",
       "17099  Luis had had a long telephone conversation wit...          yes\n",
       "17100  And they now had something to rack their brain...           no\n",
       "17101  \"Time will tell,\" Mrs. Rennert agreed. \"But be...           no\n",
       "17102  \"Well, let's see what the future holds for us,...           no\n",
       "17103  \"I don't like it when you have to break up aga...           no\n",
       "\n",
       "[17104 rows x 2 columns]"
      ]
     },
     "execution_count": 9,
     "metadata": {},
     "output_type": "execute_result"
    }
   ],
   "source": [
    "#look at the top of the table\n",
    "df_scene6"
   ]
  },
  {
   "cell_type": "code",
   "execution_count": 10,
   "id": "8564d74c695cbdc",
   "metadata": {
    "ExecuteTime": {
     "end_time": "2025-03-14T11:33:15.092627Z",
     "start_time": "2025-03-14T11:33:15.083796Z"
    },
    "collapsed": false,
    "jupyter": {
     "outputs_hidden": false
    }
   },
   "outputs": [
    {
     "data": {
      "text/html": [
       "<div>\n",
       "<style scoped>\n",
       "    .dataframe tbody tr th:only-of-type {\n",
       "        vertical-align: middle;\n",
       "    }\n",
       "\n",
       "    .dataframe tbody tr th {\n",
       "        vertical-align: top;\n",
       "    }\n",
       "\n",
       "    .dataframe thead th {\n",
       "        text-align: right;\n",
       "    }\n",
       "</style>\n",
       "<table border=\"1\" class=\"dataframe\">\n",
       "  <thead>\n",
       "    <tr style=\"text-align: right;\">\n",
       "      <th></th>\n",
       "      <th>Segment</th>\n",
       "      <th>scene-change</th>\n",
       "    </tr>\n",
       "  </thead>\n",
       "  <tbody>\n",
       "    <tr>\n",
       "      <th>count</th>\n",
       "      <td>17104</td>\n",
       "      <td>17104</td>\n",
       "    </tr>\n",
       "    <tr>\n",
       "      <th>unique</th>\n",
       "      <td>17104</td>\n",
       "      <td>2</td>\n",
       "    </tr>\n",
       "    <tr>\n",
       "      <th>top</th>\n",
       "      <td>Ah Ahaual, ruler of the Mayan city of Ah Kin P...</td>\n",
       "      <td>no</td>\n",
       "    </tr>\n",
       "    <tr>\n",
       "      <th>freq</th>\n",
       "      <td>1</td>\n",
       "      <td>13431</td>\n",
       "    </tr>\n",
       "  </tbody>\n",
       "</table>\n",
       "</div>"
      ],
      "text/plain": [
       "                                                  Segment scene-change\n",
       "count                                               17104        17104\n",
       "unique                                              17104            2\n",
       "top     Ah Ahaual, ruler of the Mayan city of Ah Kin P...           no\n",
       "freq                                                    1        13431"
      ]
     },
     "execution_count": 10,
     "metadata": {},
     "output_type": "execute_result"
    }
   ],
   "source": [
    "df_scene6.describe()"
   ]
  },
  {
   "cell_type": "code",
   "execution_count": 11,
   "id": "e947517c1022c336",
   "metadata": {
    "ExecuteTime": {
     "end_time": "2025-03-14T11:33:43.539827Z",
     "start_time": "2025-03-14T11:33:43.535455Z"
    },
    "collapsed": false,
    "jupyter": {
     "outputs_hidden": false
    }
   },
   "outputs": [],
   "source": [
    "#translate text labels to numeric\n",
    "df_scene6['Labels']=df_scene6['scene-change'].map({'no': 0, 'yes':1})\n",
    "#drop the \"Tag\" column\n",
    "df_scene=df_scene6.drop([\"scene-change\"], axis=1)"
   ]
  },
  {
   "cell_type": "code",
   "execution_count": 12,
   "id": "2080394addaf39fd",
   "metadata": {
    "ExecuteTime": {
     "end_time": "2025-03-14T11:33:47.675587Z",
     "start_time": "2025-03-14T11:33:47.419513Z"
    },
    "collapsed": false,
    "jupyter": {
     "outputs_hidden": false
    }
   },
   "outputs": [],
   "source": [
    "#import libraries etc\n",
    "import numpy as np\n",
    "import matplotlib.pyplot as plt\n",
    "plt.style.use('ggplot')"
   ]
  },
  {
   "cell_type": "code",
   "execution_count": 13,
   "id": "d96a369c50bc80b8",
   "metadata": {
    "ExecuteTime": {
     "end_time": "2025-03-14T11:33:48.884700Z",
     "start_time": "2025-03-14T11:33:48.882570Z"
    },
    "collapsed": false,
    "jupyter": {
     "outputs_hidden": false
    }
   },
   "outputs": [],
   "source": [
    "#define number of classes (more important if you have multiple)\n",
    "num_classes = len(df_scene[\"Labels\"].value_counts())"
   ]
  },
  {
   "cell_type": "markdown",
   "id": "c76fe3d80e7efaaa",
   "metadata": {
    "collapsed": false,
    "jupyter": {
     "outputs_hidden": false
    }
   },
   "source": [
    "### Load the model"
   ]
  },
  {
   "cell_type": "code",
   "execution_count": 14,
   "id": "10300e7de58c6264",
   "metadata": {
    "ExecuteTime": {
     "end_time": "2025-03-14T11:33:54.374679Z",
     "start_time": "2025-03-14T11:33:51.355891Z"
    },
    "collapsed": false,
    "jupyter": {
     "outputs_hidden": false
    }
   },
   "outputs": [],
   "source": [
    "#load tensorflow and data division\n",
    "#!pip install tensorflow #if needed\n",
    "#!pip install --upgrade tensorflow tensorflow-hub tensorflow-text\n",
    "\n",
    "#!pip install tensorflow_text\n",
    "#import tensorflow_text as text  # Registers the ops.\n",
    "\n",
    "\n",
    "#load tensorflow and data division\n",
    "import tensorflow as tf\n",
    "from sklearn.model_selection import train_test_split"
   ]
  },
  {
   "cell_type": "code",
   "execution_count": 16,
   "id": "9ce648746a2ffaa7",
   "metadata": {
    "ExecuteTime": {
     "end_time": "2025-03-14T11:34:18.382785Z",
     "start_time": "2025-03-14T11:34:18.379267Z"
    },
    "collapsed": false,
    "jupyter": {
     "outputs_hidden": false
    }
   },
   "outputs": [],
   "source": [
    "#turn numeric labels into categorical variables\n",
    "y=tf.keras.utils.to_categorical(df_scene[\"Labels\"].values, num_classes=num_classes)\n",
    "#split sample into training and test sets\n",
    "x_train, x_test, y_train, y_test=train_test_split(df_scene['Segment'], y, test_size=0.25)"
   ]
  },
  {
   "cell_type": "code",
   "execution_count": 17,
   "id": "3266646bc7b4bb5d",
   "metadata": {
    "ExecuteTime": {
     "end_time": "2025-03-14T11:34:26.542425Z",
     "start_time": "2025-03-14T11:34:20.721665Z"
    },
    "collapsed": false,
    "jupyter": {
     "outputs_hidden": false
    }
   },
   "outputs": [
    {
     "name": "stderr",
     "output_type": "stream",
     "text": [
      "2025-03-14 12:34:21.135747: I metal_plugin/src/device/metal_device.cc:1154] Metal device set to: Apple M3 Max\n",
      "2025-03-14 12:34:21.135782: I metal_plugin/src/device/metal_device.cc:296] systemMemory: 36.00 GB\n",
      "2025-03-14 12:34:21.135789: I metal_plugin/src/device/metal_device.cc:313] maxCacheSize: 13.50 GB\n",
      "WARNING: All log messages before absl::InitializeLog() is called are written to STDERR\n",
      "I0000 00:00:1741952061.135806 20773240 pluggable_device_factory.cc:305] Could not identify NUMA node of platform GPU ID 0, defaulting to 0. Your kernel may not have been built with NUMA support.\n",
      "I0000 00:00:1741952061.135825 20773240 pluggable_device_factory.cc:271] Created TensorFlow device (/job:localhost/replica:0/task:0/device:GPU:0 with 0 MB memory) -> physical PluggableDevice (device: 0, name: METAL, pci bus id: <undefined>)\n",
      "2025-03-14 12:34:21.776568: I tensorflow/core/grappler/optimizers/custom_graph_optimizer_registry.cc:117] Plugin optimizer for device_type GPU is enabled.\n"
     ]
    }
   ],
   "source": [
    "#import Bert Models\n",
    "import tensorflow_hub as hub\n",
    "import tensorflow_text as text\n",
    "\n",
    "#create preprocessor and encoder/bert models\n",
    "#preprocessor = hub.load('https://tfhub.dev/tensorflow/bert_en_uncased_preprocess/3')\n",
    "#encoder = hub.load('https://tfhub.dev/google/experts/bert/answerdotai/ModernBERT-base')\n",
    "\n",
    "#define the preprocessor and encoder - use the multilingual \"universal-sentence cmlm \n",
    "#see: https://www.tensorflow.org/hub/tutorials/senteval_for_universal_sentence_encoder_cmlm\n",
    "preprocessor = hub.KerasLayer(\"https://tfhub.dev/google/universal-sentence-encoder-cmlm/multilingual-preprocess/2\")\n",
    "encoder = hub.KerasLayer(\"https://tfhub.dev/google/universal-sentence-encoder-cmlm/multilingual-base/1\")\n",
    "\n",
    "#in case of a Value Error message, try \"rm -rf /var/folders/0l/jmlpg6g91sd3fl4ry6lcl8lw0000gn/T/tfhub_modules/\" in your terminal"
   ]
  },
  {
   "cell_type": "code",
   "execution_count": 19,
   "id": "d45a169737cb69a2",
   "metadata": {
    "ExecuteTime": {
     "end_time": "2025-03-14T11:36:15.935170Z",
     "start_time": "2025-03-14T11:36:15.438713Z"
    },
    "collapsed": false,
    "jupyter": {
     "outputs_hidden": false
    }
   },
   "outputs": [],
   "source": [
    "#create model parameters\n",
    "i = tf.keras.layers.Input(shape=(), dtype=tf.string, name='text')\n",
    "x = preprocessor(i)\n",
    "x = encoder(x)\n",
    "x = tf.keras.layers.Dropout(0.2, name=\"dropout\")(x['pooled_output'])\n",
    "x = tf.keras.layers.Dense(num_classes, activation='softmax', name=\"output\")(x)\n",
    "model_scene = tf.keras.Model(i, x)"
   ]
  },
  {
   "cell_type": "code",
   "execution_count": 20,
   "id": "bc0a8fe7eb58d170",
   "metadata": {
    "ExecuteTime": {
     "end_time": "2025-03-14T11:36:21.144381Z",
     "start_time": "2025-03-14T11:36:21.139727Z"
    },
    "collapsed": false,
    "jupyter": {
     "outputs_hidden": false
    }
   },
   "outputs": [],
   "source": [
    "#create functions for evaluating the model\n",
    "import tensorflow.keras.backend as K\n",
    "\n",
    "def balanced_recall(y_true, y_pred):\n",
    "\t\"\"\"This function calculates the balanced recall metric recall = TP /(TP+FN)\"\"\"\n",
    "\trecall_by_class=0\n",
    "\tfor i in range(y_pred.shape[1]):\n",
    "\t\ty_pred_class=y_pred[:, i]\n",
    "\t\ty_true_class=y_true[:, i]\n",
    "\t\ttrue_positives=K.sum(K.round(K.clip(y_true_class * y_pred_class, 0, 1)))\n",
    "\t\tpossible_positives=K.sum(K.round(K.clip(y_true_class, 0, 1)))\n",
    "\t\trecall = true_positives / (possible_positives +K.epsilon())\n",
    "\t\trecall_by_class = recall_by_class + recall\n",
    "\treturn recall_by_class / y_pred.shape[1]\n",
    "\n",
    "def balanced_precision(y_true, y_pred):\n",
    "\t\"\"\"This function calculates the balanced precision metric precision = TP / (TP+FP)\"\"\"\n",
    "\tprecision_by_class=0\n",
    "\tfor i in range(y_pred.shape[1]):\n",
    "\t\ty_pred_class = y_pred[:, i]\n",
    "\t\ty_true_class = y_true[:, i]\n",
    "\t\ttrue_positives = K.sum(K.round(K.clip(y_true_class * y_pred_class, 0, 1)))\n",
    "\t\tpredicted_positives = K.sum(K.round(K.clip(y_pred_class, 0, 1)))\n",
    "\t\tprecision = true_positives / (predicted_positives + K.epsilon())\n",
    "\t\tprecision_by_class = precision_by_class + precision\n",
    "\treturn precision_by_class / y_pred.shape[1]\n",
    "\n",
    "\n",
    "def balanced_f1_score(y_true, y_pred):\n",
    "\t\"\"\"This function calculates the F1 score metric\"\"\"\n",
    "\tprecision = balanced_precision(y_true, y_pred)\n",
    "\trecall = balanced_recall(y_true, y_pred)\n",
    "\treturn 2 * ((precision * recall) / (precision + recall + K.epsilon()))"
   ]
  },
  {
   "cell_type": "code",
   "execution_count": 21,
   "id": "93e714420f19cb06",
   "metadata": {
    "ExecuteTime": {
     "end_time": "2025-03-14T15:11:29.944057Z",
     "start_time": "2025-03-14T11:37:00.064531Z"
    },
    "collapsed": false,
    "jupyter": {
     "outputs_hidden": false
    }
   },
   "outputs": [
    {
     "name": "stdout",
     "output_type": "stream",
     "text": [
      "Epoch 1/15\n",
      "401/401 [==============================] - 1262s 3s/step - loss: 0.4698 - accuracy: 0.7859 - balanced_recall: 0.5511 - balanced_precision: 0.5856 - balanced_f1_score: 0.5594 - val_loss: 0.4358 - val_accuracy: 0.8047 - val_balanced_recall: 0.6238 - val_balanced_precision: 0.7030 - val_balanced_f1_score: 0.6583\n",
      "Epoch 2/15\n",
      "401/401 [==============================] - 1210s 3s/step - loss: 0.4417 - accuracy: 0.7933 - balanced_recall: 0.5862 - balanced_precision: 0.6590 - balanced_f1_score: 0.6144 - val_loss: 0.4233 - val_accuracy: 0.8099 - val_balanced_recall: 0.6069 - val_balanced_precision: 0.7107 - val_balanced_f1_score: 0.6506\n",
      "Epoch 3/15\n",
      "401/401 [==============================] - 1156s 3s/step - loss: 0.4329 - accuracy: 0.8019 - balanced_recall: 0.6037 - balanced_precision: 0.6898 - balanced_f1_score: 0.6386 - val_loss: 0.4255 - val_accuracy: 0.8057 - val_balanced_recall: 0.5825 - val_balanced_precision: 0.6920 - val_balanced_f1_score: 0.6261\n",
      "Epoch 4/15\n",
      "401/401 [==============================] - 1177s 3s/step - loss: 0.4299 - accuracy: 0.8009 - balanced_recall: 0.6070 - balanced_precision: 0.6943 - balanced_f1_score: 0.6427 - val_loss: 0.4214 - val_accuracy: 0.8096 - val_balanced_recall: 0.5974 - val_balanced_precision: 0.7058 - val_balanced_f1_score: 0.6420\n",
      "Epoch 5/15\n",
      "401/401 [==============================] - 1243s 3s/step - loss: 0.4294 - accuracy: 0.7996 - balanced_recall: 0.6069 - balanced_precision: 0.6846 - balanced_f1_score: 0.6384 - val_loss: 0.4182 - val_accuracy: 0.8113 - val_balanced_recall: 0.6275 - val_balanced_precision: 0.7186 - val_balanced_f1_score: 0.6670\n",
      "Epoch 6/15\n",
      "401/401 [==============================] - 1159s 3s/step - loss: 0.4300 - accuracy: 0.8060 - balanced_recall: 0.6225 - balanced_precision: 0.7069 - balanced_f1_score: 0.6574 - val_loss: 0.4275 - val_accuracy: 0.8043 - val_balanced_recall: 0.5742 - val_balanced_precision: 0.6864 - val_balanced_f1_score: 0.6174\n",
      "Epoch 7/15\n",
      "401/401 [==============================] - 1182s 3s/step - loss: 0.4305 - accuracy: 0.8060 - balanced_recall: 0.6180 - balanced_precision: 0.6972 - balanced_f1_score: 0.6505 - val_loss: 0.4217 - val_accuracy: 0.8064 - val_balanced_recall: 0.5856 - val_balanced_precision: 0.6965 - val_balanced_f1_score: 0.6298\n",
      "Epoch 8/15\n",
      "401/401 [==============================] - 1149s 3s/step - loss: 0.4303 - accuracy: 0.8046 - balanced_recall: 0.6149 - balanced_precision: 0.7017 - balanced_f1_score: 0.6512 - val_loss: 0.4162 - val_accuracy: 0.8127 - val_balanced_recall: 0.6214 - val_balanced_precision: 0.7277 - val_balanced_f1_score: 0.6667\n",
      "Epoch 9/15\n",
      "401/401 [==============================] - 1125s 3s/step - loss: 0.4293 - accuracy: 0.8039 - balanced_recall: 0.6158 - balanced_precision: 0.7084 - balanced_f1_score: 0.6545 - val_loss: 0.4174 - val_accuracy: 0.8143 - val_balanced_recall: 0.6271 - val_balanced_precision: 0.7257 - val_balanced_f1_score: 0.6698\n",
      "Epoch 10/15\n",
      "401/401 [==============================] - 1091s 3s/step - loss: 0.4277 - accuracy: 0.8066 - balanced_recall: 0.6222 - balanced_precision: 0.7174 - balanced_f1_score: 0.6623 - val_loss: 0.4174 - val_accuracy: 0.8108 - val_balanced_recall: 0.6050 - val_balanced_precision: 0.7187 - val_balanced_f1_score: 0.6523\n",
      "Epoch 11/15\n",
      "401/401 [==============================] - 1114s 3s/step - loss: 0.4289 - accuracy: 0.8024 - balanced_recall: 0.6131 - balanced_precision: 0.7055 - balanced_f1_score: 0.6513 - val_loss: 0.4248 - val_accuracy: 0.8096 - val_balanced_recall: 0.6607 - val_balanced_precision: 0.7151 - val_balanced_f1_score: 0.6849\n"
     ]
    }
   ],
   "source": [
    "#new results from 2025-01-31 with 7 training texts\n",
    "#run the model - this is an alternative cell for showcasing a run with 10 epochs only\n",
    "\n",
    "n_epochs = 15#20\n",
    "METRICS = [ tf.keras.metrics.CategoricalAccuracy(name=\"accuracy\"), balanced_recall, balanced_precision, balanced_f1_score]\n",
    "\n",
    "earlystop_callback = tf.keras.callbacks.EarlyStopping(monitor = \"val_loss\", patience = 3, restore_best_weights = True)\n",
    "\n",
    "model_scene.compile(optimizer = \"adam\", loss = \"categorical_crossentropy\",metrics = METRICS)\n",
    "\n",
    "model_scene_fit = model_scene.fit(x_train, y_train, epochs = n_epochs, validation_data = (x_test, y_test), callbacks = [earlystop_callback])"
   ]
  },
  {
   "cell_type": "code",
   "execution_count": 23,
   "id": "c28074637dd14bd1",
   "metadata": {
    "ExecuteTime": {
     "end_time": "2025-03-14T18:28:28.730118Z",
     "start_time": "2025-03-14T18:28:28.142582Z"
    },
    "collapsed": false,
    "jupyter": {
     "outputs_hidden": false
    }
   },
   "outputs": [
    {
     "data": {
      "image/png": "[encoded data removed]",
      "text/plain": [
       "<Figure size 3000x500 with 5 Axes>"
      ]
     },
     "metadata": {},
     "output_type": "display_data"
    }
   ],
   "source": [
    "#plot change in accuracy scores over epochs\n",
    "x = list(range(1, 11+1)) # second number must be changed to the actual number of trained epochs for visualization\n",
    "metric_list = list(model_scene_fit.history.keys())\n",
    "num_metrics = int(len(metric_list)/2)\n",
    "\n",
    "fig, ax = plt.subplots(nrows=1, ncols=num_metrics, figsize=(30, 5))\n",
    "\n",
    "for i in range(0, num_metrics):\n",
    "    ax[i].plot(x, model_scene_fit.history[metric_list[i]], marker=\"o\", label=metric_list[i].replace(\"_\", \" \"))\n",
    "    ax[i].plot(x, model_scene_fit.history[metric_list[i+num_metrics]], marker=\"o\", label=metric_list[i+num_metrics].replace(\"_\", \" \"))\n",
    "    ax[i].set_xlabel(\"epochs\",fontsize=14)\n",
    "    ax[i].set_title(metric_list[i].replace(\"_\", \" \"),fontsize=20)\n",
    "    ax[i].legend(loc=\"lower left\")\n",
    "    #ax[i].set_ylim([0,1])\n",
    "    \n",
    "fig.savefig('/Users//Users/.../20250314_ClassificationSuccess_SceneChangeDetection_6_Segments.pdf')\n"
   ]
  },
  {
   "cell_type": "code",
   "execution_count": 84,
   "id": "fb64d08bff0dde35",
   "metadata": {
    "ExecuteTime": {
     "end_time": "2025-03-17T17:24:07.272270Z",
     "start_time": "2025-03-17T17:24:07.251690Z"
    },
    "collapsed": false,
    "jupyter": {
     "outputs_hidden": false
    }
   },
   "outputs": [
    {
     "name": "stdout",
     "output_type": "stream",
     "text": [
      "Model: \"model\"\n",
      "__________________________________________________________________________________________________\n",
      " Layer (type)                Output Shape                 Param #   Connected to                  \n",
      "==================================================================================================\n",
      " text (InputLayer)           [(None,)]                    0         []                            \n",
      "                                                                                                  \n",
      " keras_layer (KerasLayer)    {'input_word_ids': (None,    0         ['text[0][0]']                \n",
      "                             128),                                                                \n",
      "                              'input_mask': (None, 128)                                           \n",
      "                             , 'input_type_ids': (None,                                           \n",
      "                              128)}                                                               \n",
      "                                                                                                  \n",
      " keras_layer_1 (KerasLayer)  {'sequence_output': (None,   4709268   ['keras_layer[0][0]',         \n",
      "                              128, 768),                  49         'keras_layer[0][1]',         \n",
      "                              'default': (None, 768),                'keras_layer[0][2]']         \n",
      "                              'pooled_output': (None, 7                                           \n",
      "                             68)}                                                                 \n",
      "                                                                                                  \n",
      " dropout (Dropout)           (None, 768)                  0         ['keras_layer_1[0][1]']       \n",
      "                                                                                                  \n",
      " output (Dense)              (None, 2)                    1538      ['dropout[0][0]']             \n",
      "                                                                                                  \n",
      "==================================================================================================\n",
      "Total params: 470928387 (1.75 GB)\n",
      "Trainable params: 1538 (6.01 KB)\n",
      "Non-trainable params: 470926849 (1.75 GB)\n",
      "__________________________________________________________________________________________________\n"
     ]
    }
   ],
   "source": [
    "model_scene.summary()\n"
   ]
  },
  {
   "cell_type": "markdown",
   "id": "8e102dd165e85c87",
   "metadata": {
    "collapsed": false,
    "jupyter": {
     "outputs_hidden": false
    }
   },
   "source": [
    "### Save and reload the model\n",
    "Doesn't work for now! But the prediction does work."
   ]
  },
  {
   "cell_type": "code",
   "execution_count": 24,
   "id": "8afc05e62dd78805",
   "metadata": {
    "ExecuteTime": {
     "end_time": "2025-03-14T18:29:55.722139Z",
     "start_time": "2025-03-14T18:29:52.920175Z"
    },
    "collapsed": false,
    "jupyter": {
     "outputs_hidden": false
    }
   },
   "outputs": [],
   "source": [
    "#save the model for future use\n",
    "model_scene.save(\"/Users//Users/.../20250314SceneChangeModel6.keras\")\n"
   ]
  },
  {
   "cell_type": "code",
   "execution_count": 1,
   "id": "57183e6f5092c0da",
   "metadata": {
    "ExecuteTime": {
     "end_time": "2025-03-12T19:27:40.347978Z",
     "start_time": "2025-03-12T19:27:39.720508Z"
    },
    "collapsed": false,
    "jupyter": {
     "outputs_hidden": false
    }
   },
   "outputs": [],
   "source": [
    "# Load the model from the saved file\n",
    "reloaded_scene_change_detector_model = tf.keras.models.load_model(\"/Users//Users/.../20250314SceneChangeModel6.keras\")#, custom_objects={\"CustomRNN\": CustomRNN})"
   ]
  },
  {
   "cell_type": "markdown",
   "id": "6e87730a1f38d61b",
   "metadata": {
    "collapsed": false,
    "jupyter": {
     "outputs_hidden": false
    }
   },
   "source": [
    "## Functions for Evaluating the model on a separate test set"
   ]
  },
  {
   "cell_type": "code",
   "execution_count": 25,
   "id": "9f1dfb1d6e22a8a3",
   "metadata": {
    "ExecuteTime": {
     "end_time": "2025-03-14T18:30:00.868368Z",
     "start_time": "2025-03-14T18:30:00.866474Z"
    },
    "collapsed": false,
    "jupyter": {
     "outputs_hidden": false
    }
   },
   "outputs": [],
   "source": [
    "#function for predicting new 6-sentence passage with scene change detector\n",
    "def predict_class(reviews):\n",
    "  return [np.argmax(pred) for pred in model_scene.predict(reviews)]"
   ]
  },
  {
   "cell_type": "code",
   "execution_count": 26,
   "id": "fc468dd0c6be79c9",
   "metadata": {
    "ExecuteTime": {
     "end_time": "2025-03-14T18:30:02.201790Z",
     "start_time": "2025-03-14T18:30:02.172849Z"
    },
    "collapsed": false,
    "jupyter": {
     "outputs_hidden": false
    }
   },
   "outputs": [
    {
     "name": "stdout",
     "output_type": "stream",
     "text": [
      "Loaded: Test_Set_5_Last_Scenes.txt_segments.xlsx\n"
     ]
    }
   ],
   "source": [
    "import pandas as pd\n",
    "import os\n",
    "\n",
    "def read_xlsx_files_from_folder(folder_path):\n",
    "    \"\"\"Reads all .xlsx files from the given folder and returns a list of DataFrames.\"\"\"\n",
    "    all_dfs = []  # List to store DataFrames\n",
    "    for file_name in os.listdir(folder_path):\n",
    "        if file_name.endswith(\".xlsx\"):  # Process only .xlsx files\n",
    "            file_path = os.path.join(folder_path, file_name)\n",
    "            df = pd.read_excel(file_path)\n",
    "            all_dfs.append(df)  # Append the DataFrame to the list\n",
    "            print(f\"Loaded: {file_name}\")\n",
    "    return all_dfs\n",
    "\n",
    "# Load the test set (50 scene annotations; set contains the last 5 scenes of each of the 10 Men Made in America Romance novels)\n",
    "folder_path = '/Users//Users/.../segmented_6_sentences_TestSet'\n",
    "# Read all Excel files from the folder\n",
    "dfs = read_xlsx_files_from_folder(folder_path)\n",
    "\n",
    "# Optionally, combine all DataFrames into a single one (if desired)\n",
    "test_scene_text = pd.concat(dfs, ignore_index=True)\n",
    "\n"
   ]
  },
  {
   "cell_type": "code",
   "execution_count": 27,
   "id": "d5e93cd34cfdcd40",
   "metadata": {
    "ExecuteTime": {
     "end_time": "2025-03-14T18:30:03.986581Z",
     "start_time": "2025-03-14T18:30:03.980345Z"
    },
    "collapsed": false,
    "jupyter": {
     "outputs_hidden": false
    }
   },
   "outputs": [
    {
     "data": {
      "text/html": [
       "<div>\n",
       "<style scoped>\n",
       "    .dataframe tbody tr th:only-of-type {\n",
       "        vertical-align: middle;\n",
       "    }\n",
       "\n",
       "    .dataframe tbody tr th {\n",
       "        vertical-align: top;\n",
       "    }\n",
       "\n",
       "    .dataframe thead th {\n",
       "        text-align: right;\n",
       "    }\n",
       "</style>\n",
       "<table border=\"1\" class=\"dataframe\">\n",
       "  <thead>\n",
       "    <tr style=\"text-align: right;\">\n",
       "      <th></th>\n",
       "      <th>Segment</th>\n",
       "      <th>scene-change</th>\n",
       "    </tr>\n",
       "  </thead>\n",
       "  <tbody>\n",
       "    <tr>\n",
       "      <th>0</th>\n",
       "      <td>Steve wore a path in the rug at the Algonquin ...</td>\n",
       "      <td>yes</td>\n",
       "    </tr>\n",
       "    <tr>\n",
       "      <th>1</th>\n",
       "      <td>How could he leave New York when\\nAngel was he...</td>\n",
       "      <td>yes</td>\n",
       "    </tr>\n",
       "    <tr>\n",
       "      <th>2</th>\n",
       "      <td>\"\\nWas he that bad? Steve wondered. Probably. ...</td>\n",
       "      <td>no</td>\n",
       "    </tr>\n",
       "    <tr>\n",
       "      <th>3</th>\n",
       "      <td>There was only one thing for Steve to do: Get ...</td>\n",
       "      <td>no</td>\n",
       "    </tr>\n",
       "    <tr>\n",
       "      <th>4</th>\n",
       "      <td>Before you do I want to say one thing. I since...</td>\n",
       "      <td>no</td>\n",
       "    </tr>\n",
       "    <tr>\n",
       "      <th>...</th>\n",
       "      <td>...</td>\n",
       "      <td>...</td>\n",
       "    </tr>\n",
       "    <tr>\n",
       "      <th>488</th>\n",
       "      <td>Somehow she never got around to opening a sepa...</td>\n",
       "      <td>no</td>\n",
       "    </tr>\n",
       "    <tr>\n",
       "      <th>489</th>\n",
       "      <td>They installed a gate between the two houses s...</td>\n",
       "      <td>yes</td>\n",
       "    </tr>\n",
       "    <tr>\n",
       "      <th>490</th>\n",
       "      <td>\"A boy and a girl,\" Michael told her with prid...</td>\n",
       "      <td>yes</td>\n",
       "    </tr>\n",
       "    <tr>\n",
       "      <th>491</th>\n",
       "      <td>\"What can I say?\" he told her, his eyes alight...</td>\n",
       "      <td>no</td>\n",
       "    </tr>\n",
       "    <tr>\n",
       "      <th>492</th>\n",
       "      <td>\"\\nBailey laughed, and the nurses turned to se...</td>\n",
       "      <td>no</td>\n",
       "    </tr>\n",
       "  </tbody>\n",
       "</table>\n",
       "<p>493 rows × 2 columns</p>\n",
       "</div>"
      ],
      "text/plain": [
       "                                               Segment scene-change\n",
       "0    Steve wore a path in the rug at the Algonquin ...          yes\n",
       "1    How could he leave New York when\\nAngel was he...          yes\n",
       "2    \"\\nWas he that bad? Steve wondered. Probably. ...           no\n",
       "3    There was only one thing for Steve to do: Get ...           no\n",
       "4    Before you do I want to say one thing. I since...           no\n",
       "..                                                 ...          ...\n",
       "488  Somehow she never got around to opening a sepa...           no\n",
       "489  They installed a gate between the two houses s...          yes\n",
       "490  \"A boy and a girl,\" Michael told her with prid...          yes\n",
       "491  \"What can I say?\" he told her, his eyes alight...           no\n",
       "492  \"\\nBailey laughed, and the nurses turned to se...           no\n",
       "\n",
       "[493 rows x 2 columns]"
      ]
     },
     "execution_count": 27,
     "metadata": {},
     "output_type": "execute_result"
    }
   ],
   "source": [
    "#look at the top of the table\n",
    "test_scene_text"
   ]
  },
  {
   "cell_type": "code",
   "execution_count": 3,
   "id": "8daa232ed665208c",
   "metadata": {
    "ExecuteTime": {
     "end_time": "2025-03-14T18:30:10.150535Z",
     "start_time": "2025-03-14T18:30:10.144835Z"
    },
    "collapsed": false,
    "jupyter": {
     "outputs_hidden": false
    }
   },
   "outputs": [],
   "source": [
    "#extract the segments without the gold annotations\n",
    "test_scene_detection = test_scene_text['Segment'].tolist()\n",
    "#test_scene_detection"
   ]
  },
  {
   "cell_type": "code",
   "execution_count": 29,
   "id": "335db38156b78b51",
   "metadata": {
    "ExecuteTime": {
     "end_time": "2025-03-14T18:30:51.266751Z",
     "start_time": "2025-03-14T18:30:13.149493Z"
    },
    "collapsed": false,
    "jupyter": {
     "outputs_hidden": false
    }
   },
   "outputs": [
    {
     "name": "stdout",
     "output_type": "stream",
     "text": [
      "16/16 [==============================] - 38s 2s/step\n"
     ]
    }
   ],
   "source": [
    "#run the model and predict the probability of a scene-change happening in a 6-sentence segment\n",
    "perc_probability=model_scene.predict(test_scene_detection)"
   ]
  },
  {
   "cell_type": "code",
   "execution_count": 30,
   "id": "a6d52e86b79555bd",
   "metadata": {
    "ExecuteTime": {
     "end_time": "2025-03-14T18:34:12.292020Z",
     "start_time": "2025-03-14T18:34:12.286163Z"
    },
    "collapsed": false,
    "jupyter": {
     "outputs_hidden": false
    }
   },
   "outputs": [],
   "source": [
    "#store the predicted probabilities in the new columns and concatenate it with the original dataframe containing the text segments and the gold annotations\n",
    "prob_df = pd.DataFrame(perc_probability, columns=['no', 'yes'])\n",
    "combined_table=pd.concat([test_scene_text, prob_df], axis=1)"
   ]
  },
  {
   "cell_type": "code",
   "execution_count": 31,
   "id": "b1df3612dbd25aa3",
   "metadata": {
    "ExecuteTime": {
     "end_time": "2025-03-14T18:34:13.551125Z",
     "start_time": "2025-03-14T18:34:13.534261Z"
    },
    "collapsed": false,
    "jupyter": {
     "outputs_hidden": false
    }
   },
   "outputs": [
    {
     "data": {
      "text/html": [
       "<div>\n",
       "<style scoped>\n",
       "    .dataframe tbody tr th:only-of-type {\n",
       "        vertical-align: middle;\n",
       "    }\n",
       "\n",
       "    .dataframe tbody tr th {\n",
       "        vertical-align: top;\n",
       "    }\n",
       "\n",
       "    .dataframe thead th {\n",
       "        text-align: right;\n",
       "    }\n",
       "</style>\n",
       "<table border=\"1\" class=\"dataframe\">\n",
       "  <thead>\n",
       "    <tr style=\"text-align: right;\">\n",
       "      <th></th>\n",
       "      <th>Segment</th>\n",
       "      <th>scene-change</th>\n",
       "      <th>no</th>\n",
       "      <th>yes</th>\n",
       "    </tr>\n",
       "  </thead>\n",
       "  <tbody>\n",
       "    <tr>\n",
       "      <th>0</th>\n",
       "      <td>Steve wore a path in the rug at the Algonquin ...</td>\n",
       "      <td>yes</td>\n",
       "      <td>0.397421</td>\n",
       "      <td>0.602579</td>\n",
       "    </tr>\n",
       "    <tr>\n",
       "      <th>1</th>\n",
       "      <td>How could he leave New York when\\nAngel was he...</td>\n",
       "      <td>yes</td>\n",
       "      <td>0.974085</td>\n",
       "      <td>0.025915</td>\n",
       "    </tr>\n",
       "    <tr>\n",
       "      <th>2</th>\n",
       "      <td>\"\\nWas he that bad? Steve wondered. Probably. ...</td>\n",
       "      <td>no</td>\n",
       "      <td>0.889961</td>\n",
       "      <td>0.110039</td>\n",
       "    </tr>\n",
       "    <tr>\n",
       "      <th>3</th>\n",
       "      <td>There was only one thing for Steve to do: Get ...</td>\n",
       "      <td>no</td>\n",
       "      <td>0.547380</td>\n",
       "      <td>0.452620</td>\n",
       "    </tr>\n",
       "    <tr>\n",
       "      <th>4</th>\n",
       "      <td>Before you do I want to say one thing. I since...</td>\n",
       "      <td>no</td>\n",
       "      <td>0.978704</td>\n",
       "      <td>0.021296</td>\n",
       "    </tr>\n",
       "    <tr>\n",
       "      <th>...</th>\n",
       "      <td>...</td>\n",
       "      <td>...</td>\n",
       "      <td>...</td>\n",
       "      <td>...</td>\n",
       "    </tr>\n",
       "    <tr>\n",
       "      <th>488</th>\n",
       "      <td>Somehow she never got around to opening a sepa...</td>\n",
       "      <td>no</td>\n",
       "      <td>0.270998</td>\n",
       "      <td>0.729002</td>\n",
       "    </tr>\n",
       "    <tr>\n",
       "      <th>489</th>\n",
       "      <td>They installed a gate between the two houses s...</td>\n",
       "      <td>yes</td>\n",
       "      <td>0.396577</td>\n",
       "      <td>0.603423</td>\n",
       "    </tr>\n",
       "    <tr>\n",
       "      <th>490</th>\n",
       "      <td>\"A boy and a girl,\" Michael told her with prid...</td>\n",
       "      <td>yes</td>\n",
       "      <td>0.936660</td>\n",
       "      <td>0.063340</td>\n",
       "    </tr>\n",
       "    <tr>\n",
       "      <th>491</th>\n",
       "      <td>\"What can I say?\" he told her, his eyes alight...</td>\n",
       "      <td>no</td>\n",
       "      <td>0.895859</td>\n",
       "      <td>0.104141</td>\n",
       "    </tr>\n",
       "    <tr>\n",
       "      <th>492</th>\n",
       "      <td>\"\\nBailey laughed, and the nurses turned to se...</td>\n",
       "      <td>no</td>\n",
       "      <td>0.875604</td>\n",
       "      <td>0.124396</td>\n",
       "    </tr>\n",
       "  </tbody>\n",
       "</table>\n",
       "<p>493 rows × 4 columns</p>\n",
       "</div>"
      ],
      "text/plain": [
       "                                               Segment scene-change        no  \\\n",
       "0    Steve wore a path in the rug at the Algonquin ...          yes  0.397421   \n",
       "1    How could he leave New York when\\nAngel was he...          yes  0.974085   \n",
       "2    \"\\nWas he that bad? Steve wondered. Probably. ...           no  0.889961   \n",
       "3    There was only one thing for Steve to do: Get ...           no  0.547380   \n",
       "4    Before you do I want to say one thing. I since...           no  0.978704   \n",
       "..                                                 ...          ...       ...   \n",
       "488  Somehow she never got around to opening a sepa...           no  0.270998   \n",
       "489  They installed a gate between the two houses s...          yes  0.396577   \n",
       "490  \"A boy and a girl,\" Michael told her with prid...          yes  0.936660   \n",
       "491  \"What can I say?\" he told her, his eyes alight...           no  0.895859   \n",
       "492  \"\\nBailey laughed, and the nurses turned to se...           no  0.875604   \n",
       "\n",
       "          yes  \n",
       "0    0.602579  \n",
       "1    0.025915  \n",
       "2    0.110039  \n",
       "3    0.452620  \n",
       "4    0.021296  \n",
       "..        ...  \n",
       "488  0.729002  \n",
       "489  0.603423  \n",
       "490  0.063340  \n",
       "491  0.104141  \n",
       "492  0.124396  \n",
       "\n",
       "[493 rows x 4 columns]"
      ]
     },
     "execution_count": 31,
     "metadata": {},
     "output_type": "execute_result"
    }
   ],
   "source": [
    "#show the combined table\n",
    "combined_table"
   ]
  },
  {
   "cell_type": "code",
   "execution_count": 32,
   "id": "dc31f3dd17e3e87e",
   "metadata": {
    "ExecuteTime": {
     "end_time": "2025-03-14T18:34:14.993436Z",
     "start_time": "2025-03-14T18:34:14.984211Z"
    },
    "collapsed": false,
    "jupyter": {
     "outputs_hidden": false
    }
   },
   "outputs": [],
   "source": [
    "#Save the predictions of the test set to a combined table with the manual annotations\n",
    "combined_table.to_csv(r'/Users//Users/.../Prediction_results/20250314_TestSet6_Predictions.csv')"
   ]
  },
  {
   "cell_type": "markdown",
   "id": "de11934808256310",
   "metadata": {
    "collapsed": false,
    "jupyter": {
     "outputs_hidden": false
    }
   },
   "source": [
    "## Start of the evaluation of the predictions"
   ]
  },
  {
   "cell_type": "code",
   "execution_count": 33,
   "id": "7fd3044cfb56acb0",
   "metadata": {
    "ExecuteTime": {
     "end_time": "2025-03-14T18:34:16.708217Z",
     "start_time": "2025-03-14T18:34:16.696891Z"
    },
    "collapsed": false,
    "jupyter": {
     "outputs_hidden": false
    }
   },
   "outputs": [
    {
     "data": {
      "text/html": [
       "<div>\n",
       "<style scoped>\n",
       "    .dataframe tbody tr th:only-of-type {\n",
       "        vertical-align: middle;\n",
       "    }\n",
       "\n",
       "    .dataframe tbody tr th {\n",
       "        vertical-align: top;\n",
       "    }\n",
       "\n",
       "    .dataframe thead th {\n",
       "        text-align: right;\n",
       "    }\n",
       "</style>\n",
       "<table border=\"1\" class=\"dataframe\">\n",
       "  <thead>\n",
       "    <tr style=\"text-align: right;\">\n",
       "      <th></th>\n",
       "      <th>Segment</th>\n",
       "      <th>true_values</th>\n",
       "      <th>no</th>\n",
       "      <th>yes</th>\n",
       "    </tr>\n",
       "  </thead>\n",
       "  <tbody>\n",
       "    <tr>\n",
       "      <th>0</th>\n",
       "      <td>Steve wore a path in the rug at the Algonquin ...</td>\n",
       "      <td>yes</td>\n",
       "      <td>0.397421</td>\n",
       "      <td>0.602579</td>\n",
       "    </tr>\n",
       "    <tr>\n",
       "      <th>1</th>\n",
       "      <td>How could he leave New York when\\nAngel was he...</td>\n",
       "      <td>yes</td>\n",
       "      <td>0.974085</td>\n",
       "      <td>0.025915</td>\n",
       "    </tr>\n",
       "    <tr>\n",
       "      <th>2</th>\n",
       "      <td>\"\\nWas he that bad? Steve wondered. Probably. ...</td>\n",
       "      <td>no</td>\n",
       "      <td>0.889961</td>\n",
       "      <td>0.110039</td>\n",
       "    </tr>\n",
       "    <tr>\n",
       "      <th>3</th>\n",
       "      <td>There was only one thing for Steve to do: Get ...</td>\n",
       "      <td>no</td>\n",
       "      <td>0.547380</td>\n",
       "      <td>0.452620</td>\n",
       "    </tr>\n",
       "    <tr>\n",
       "      <th>4</th>\n",
       "      <td>Before you do I want to say one thing. I since...</td>\n",
       "      <td>no</td>\n",
       "      <td>0.978704</td>\n",
       "      <td>0.021296</td>\n",
       "    </tr>\n",
       "  </tbody>\n",
       "</table>\n",
       "</div>"
      ],
      "text/plain": [
       "                                             Segment true_values        no  \\\n",
       "0  Steve wore a path in the rug at the Algonquin ...         yes  0.397421   \n",
       "1  How could he leave New York when\\nAngel was he...         yes  0.974085   \n",
       "2  \"\\nWas he that bad? Steve wondered. Probably. ...          no  0.889961   \n",
       "3  There was only one thing for Steve to do: Get ...          no  0.547380   \n",
       "4  Before you do I want to say one thing. I since...          no  0.978704   \n",
       "\n",
       "        yes  \n",
       "0  0.602579  \n",
       "1  0.025915  \n",
       "2  0.110039  \n",
       "3  0.452620  \n",
       "4  0.021296  "
      ]
     },
     "execution_count": 33,
     "metadata": {},
     "output_type": "execute_result"
    }
   ],
   "source": [
    "import pandas as pd\n",
    "from sklearn.metrics import confusion_matrix, roc_curve, auc, ConfusionMatrixDisplay\n",
    "import matplotlib.pyplot as plt\n",
    "from sklearn.metrics import accuracy_score, precision_score, recall_score, f1_score, roc_auc_score, confusion_matrix\n",
    "# load data with pseudo predictions (true values and predictions)\n",
    "# attention: chose the right separator! ';' or ','\n",
    "predictions = pd.read_csv('/Users//Users/.../Prediction_results/20250314_TestSet6_Predictions.csv', sep=\",\", encoding=\"utf-8\", index_col=0)\n",
    "\n",
    "predictions.rename(columns={'scene-change': 'true_values'}, inplace=True)\n",
    "\n",
    "predictions.head()\n"
   ]
  },
  {
   "cell_type": "code",
   "execution_count": 77,
   "id": "f9517745851b5bc1",
   "metadata": {
    "ExecuteTime": {
     "end_time": "2025-03-16T10:29:05.637879Z",
     "start_time": "2025-03-16T10:29:05.635287Z"
    },
    "collapsed": false,
    "jupyter": {
     "outputs_hidden": false
    }
   },
   "outputs": [],
   "source": [
    "# convert the true values from \"yes\" and \"no\" to binary\n",
    "predictions['y_true'] = predictions['true_values'].apply(lambda x: 1 if x == \"yes\" else 0)\n",
    "\n",
    "# Define a threshold for the predictions. Start with: 0.5\n",
    "threshold = 0.36 #decision threshold\n",
    "predictions['y_pred'] = predictions['yes'].apply(lambda x: 1 if x >= threshold else 0)"
   ]
  },
  {
   "cell_type": "code",
   "execution_count": 78,
   "id": "e7f2cfa17e9ba3c6",
   "metadata": {
    "ExecuteTime": {
     "end_time": "2025-03-16T10:29:08.883572Z",
     "start_time": "2025-03-16T10:29:08.875418Z"
    },
    "collapsed": false,
    "jupyter": {
     "outputs_hidden": false
    }
   },
   "outputs": [
    {
     "data": {
      "text/html": [
       "<div>\n",
       "<style scoped>\n",
       "    .dataframe tbody tr th:only-of-type {\n",
       "        vertical-align: middle;\n",
       "    }\n",
       "\n",
       "    .dataframe tbody tr th {\n",
       "        vertical-align: top;\n",
       "    }\n",
       "\n",
       "    .dataframe thead th {\n",
       "        text-align: right;\n",
       "    }\n",
       "</style>\n",
       "<table border=\"1\" class=\"dataframe\">\n",
       "  <thead>\n",
       "    <tr style=\"text-align: right;\">\n",
       "      <th></th>\n",
       "      <th>Segment</th>\n",
       "      <th>true_values</th>\n",
       "      <th>no</th>\n",
       "      <th>yes</th>\n",
       "      <th>y_true</th>\n",
       "      <th>y_pred</th>\n",
       "    </tr>\n",
       "  </thead>\n",
       "  <tbody>\n",
       "    <tr>\n",
       "      <th>0</th>\n",
       "      <td>Steve wore a path in the rug at the Algonquin ...</td>\n",
       "      <td>yes</td>\n",
       "      <td>0.397421</td>\n",
       "      <td>0.602579</td>\n",
       "      <td>1</td>\n",
       "      <td>1</td>\n",
       "    </tr>\n",
       "    <tr>\n",
       "      <th>1</th>\n",
       "      <td>How could he leave New York when\\nAngel was he...</td>\n",
       "      <td>yes</td>\n",
       "      <td>0.974085</td>\n",
       "      <td>0.025915</td>\n",
       "      <td>1</td>\n",
       "      <td>0</td>\n",
       "    </tr>\n",
       "    <tr>\n",
       "      <th>2</th>\n",
       "      <td>\"\\nWas he that bad? Steve wondered. Probably. ...</td>\n",
       "      <td>no</td>\n",
       "      <td>0.889961</td>\n",
       "      <td>0.110039</td>\n",
       "      <td>0</td>\n",
       "      <td>0</td>\n",
       "    </tr>\n",
       "    <tr>\n",
       "      <th>3</th>\n",
       "      <td>There was only one thing for Steve to do: Get ...</td>\n",
       "      <td>no</td>\n",
       "      <td>0.547380</td>\n",
       "      <td>0.452620</td>\n",
       "      <td>0</td>\n",
       "      <td>1</td>\n",
       "    </tr>\n",
       "    <tr>\n",
       "      <th>4</th>\n",
       "      <td>Before you do I want to say one thing. I since...</td>\n",
       "      <td>no</td>\n",
       "      <td>0.978704</td>\n",
       "      <td>0.021296</td>\n",
       "      <td>0</td>\n",
       "      <td>0</td>\n",
       "    </tr>\n",
       "    <tr>\n",
       "      <th>...</th>\n",
       "      <td>...</td>\n",
       "      <td>...</td>\n",
       "      <td>...</td>\n",
       "      <td>...</td>\n",
       "      <td>...</td>\n",
       "      <td>...</td>\n",
       "    </tr>\n",
       "    <tr>\n",
       "      <th>488</th>\n",
       "      <td>Somehow she never got around to opening a sepa...</td>\n",
       "      <td>no</td>\n",
       "      <td>0.270998</td>\n",
       "      <td>0.729002</td>\n",
       "      <td>0</td>\n",
       "      <td>1</td>\n",
       "    </tr>\n",
       "    <tr>\n",
       "      <th>489</th>\n",
       "      <td>They installed a gate between the two houses s...</td>\n",
       "      <td>yes</td>\n",
       "      <td>0.396577</td>\n",
       "      <td>0.603423</td>\n",
       "      <td>1</td>\n",
       "      <td>1</td>\n",
       "    </tr>\n",
       "    <tr>\n",
       "      <th>490</th>\n",
       "      <td>\"A boy and a girl,\" Michael told her with prid...</td>\n",
       "      <td>yes</td>\n",
       "      <td>0.936660</td>\n",
       "      <td>0.063340</td>\n",
       "      <td>1</td>\n",
       "      <td>0</td>\n",
       "    </tr>\n",
       "    <tr>\n",
       "      <th>491</th>\n",
       "      <td>\"What can I say?\" he told her, his eyes alight...</td>\n",
       "      <td>no</td>\n",
       "      <td>0.895859</td>\n",
       "      <td>0.104141</td>\n",
       "      <td>0</td>\n",
       "      <td>0</td>\n",
       "    </tr>\n",
       "    <tr>\n",
       "      <th>492</th>\n",
       "      <td>\"\\nBailey laughed, and the nurses turned to se...</td>\n",
       "      <td>no</td>\n",
       "      <td>0.875604</td>\n",
       "      <td>0.124396</td>\n",
       "      <td>0</td>\n",
       "      <td>0</td>\n",
       "    </tr>\n",
       "  </tbody>\n",
       "</table>\n",
       "<p>493 rows × 6 columns</p>\n",
       "</div>"
      ],
      "text/plain": [
       "                                               Segment true_values        no  \\\n",
       "0    Steve wore a path in the rug at the Algonquin ...         yes  0.397421   \n",
       "1    How could he leave New York when\\nAngel was he...         yes  0.974085   \n",
       "2    \"\\nWas he that bad? Steve wondered. Probably. ...          no  0.889961   \n",
       "3    There was only one thing for Steve to do: Get ...          no  0.547380   \n",
       "4    Before you do I want to say one thing. I since...          no  0.978704   \n",
       "..                                                 ...         ...       ...   \n",
       "488  Somehow she never got around to opening a sepa...          no  0.270998   \n",
       "489  They installed a gate between the two houses s...         yes  0.396577   \n",
       "490  \"A boy and a girl,\" Michael told her with prid...         yes  0.936660   \n",
       "491  \"What can I say?\" he told her, his eyes alight...          no  0.895859   \n",
       "492  \"\\nBailey laughed, and the nurses turned to se...          no  0.875604   \n",
       "\n",
       "          yes  y_true  y_pred  \n",
       "0    0.602579       1       1  \n",
       "1    0.025915       1       0  \n",
       "2    0.110039       0       0  \n",
       "3    0.452620       0       1  \n",
       "4    0.021296       0       0  \n",
       "..        ...     ...     ...  \n",
       "488  0.729002       0       1  \n",
       "489  0.603423       1       1  \n",
       "490  0.063340       1       0  \n",
       "491  0.104141       0       0  \n",
       "492  0.124396       0       0  \n",
       "\n",
       "[493 rows x 6 columns]"
      ]
     },
     "execution_count": 78,
     "metadata": {},
     "output_type": "execute_result"
    }
   ],
   "source": [
    "#show predictions\n",
    "predictions"
   ]
  },
  {
   "cell_type": "code",
   "execution_count": 79,
   "id": "c2254d02efd58fb0",
   "metadata": {
    "ExecuteTime": {
     "end_time": "2025-03-16T10:29:09.723210Z",
     "start_time": "2025-03-16T10:29:09.711373Z"
    },
    "collapsed": false,
    "jupyter": {
     "outputs_hidden": false
    }
   },
   "outputs": [
    {
     "name": "stdout",
     "output_type": "stream",
     "text": [
      "Accuracy:  0.8336713995943205\n",
      "Precision:  0.5857142857142857\n",
      "Recall:  0.43617021276595747\n",
      "F1 Score:  0.5\n",
      "ROC AUC:  0.7745694022289766\n",
      "Confusion Matrix: \n",
      " [[370  29]\n",
      " [ 53  41]]\n"
     ]
    }
   ],
   "source": [
    "y_true = predictions['y_true']\n",
    "y_pred = predictions['y_pred']\n",
    "y_scores = predictions['yes']\n",
    "\n",
    "# Calculation of Evaluation metrics\n",
    "accuracy = accuracy_score(y_true, y_pred)\n",
    "precision = precision_score(y_true, y_pred)\n",
    "recall = recall_score(y_true, y_pred)\n",
    "f1 = f1_score(y_true, y_pred)\n",
    "roc_auc = roc_auc_score(y_true, y_scores)\n",
    "conf_matrix = confusion_matrix(y_true, y_pred)\n",
    "\n",
    "print(\"Accuracy: \", accuracy)\n",
    "print(\"Precision: \", precision)\n",
    "print(\"Recall: \", recall)\n",
    "print(\"F1 Score: \", f1)\n",
    "print(\"ROC AUC: \", roc_auc)\n",
    "print(\"Confusion Matrix: \\n\", conf_matrix)"
   ]
  },
  {
   "cell_type": "code",
   "execution_count": 80,
   "id": "c4e557d974d5a56b",
   "metadata": {
    "ExecuteTime": {
     "end_time": "2025-03-16T10:31:15.799694Z",
     "start_time": "2025-03-16T10:31:15.728866Z"
    },
    "collapsed": false,
    "jupyter": {
     "outputs_hidden": false
    }
   },
   "outputs": [
    {
     "name": "stdout",
     "output_type": "stream",
     "text": [
      "Confusion Matrix: \n",
      " [[370  29]\n",
      " [ 53  41]]\n"
     ]
    },
    {
     "data": {
      "image/png": "[encoded data removed]",
      "text/plain": [
       "<Figure size 640x480 with 2 Axes>"
      ]
     },
     "metadata": {},
     "output_type": "display_data"
    }
   ],
   "source": [
    "# Confusion Matrix\n",
    "# Calculation of Evaluation metrics\n",
    "conf_matrix = confusion_matrix(y_true, y_pred)\n",
    "\n",
    "print(\"Confusion Matrix: \\n\", conf_matrix)\n",
    "\n",
    "# Shows the Confusion Matrix:\n",
    "ConfusionMatrixDisplay(conf_matrix, display_labels=[\"yes\", \"no\"]).plot()\n",
    "plt.title('Confusion Matrix')\n",
    "plt.show()"
   ]
  },
  {
   "cell_type": "markdown",
   "id": "1fa1b55f2328d5dc",
   "metadata": {
    "collapsed": false,
    "jupyter": {
     "outputs_hidden": false
    }
   },
   "source": [
    "## Use the model for the prediction of new data."
   ]
  },
  {
   "cell_type": "code",
   "execution_count": 38,
   "id": "2bed5f1735a65e5",
   "metadata": {
    "ExecuteTime": {
     "end_time": "2025-03-14T18:34:51.697095Z",
     "start_time": "2025-03-14T18:34:51.695420Z"
    },
    "collapsed": false,
    "jupyter": {
     "outputs_hidden": false
    }
   },
   "outputs": [],
   "source": [
    "#function for predicting new 6-sentence passage with scene change detector\n",
    "def predict_class(reviews):\n",
    "  return [np.argmax(pred) for pred in model_scene.predict(reviews)]"
   ]
  },
  {
   "cell_type": "code",
   "execution_count": 5,
   "id": "2ba8e3218bd5e3c4",
   "metadata": {
    "ExecuteTime": {
     "end_time": "2025-03-14T18:34:54.213764Z",
     "start_time": "2025-03-14T18:34:54.049057Z"
    },
    "collapsed": false,
    "jupyter": {
     "outputs_hidden": false
    }
   },
   "outputs": [],
   "source": [
    "#read in unseen data for prediction\n",
    "\n",
    "raw_data = pd.read_excel('/Users//Users/.../for_prediction/xxxx.xlsx')\n"
   ]
  },
  {
   "cell_type": "code",
   "execution_count": null,
   "id": "2151799a61a7f441",
   "metadata": {
    "collapsed": false,
    "jupyter": {
     "outputs_hidden": false
    }
   },
   "outputs": [],
   "source": [
    "#extract the text segments for prediction and run the model for the prediction\n",
    "prediction_scene_text = raw_data['Segment'].tolist()\n",
    "scene_perc_probability=model_scene.predict(prediction_scene_text)"
   ]
  },
  {
   "cell_type": "code",
   "execution_count": null,
   "id": "e4de275787656b29",
   "metadata": {
    "collapsed": false,
    "jupyter": {
     "outputs_hidden": false
    }
   },
   "outputs": [],
   "source": [
    "#store the predicted probabilities in the new columns and concatenate it with the original dataframe containing the text segments and the default \"no\" annotations which is to be overwritten \n",
    "\n",
    "scene_prob_df = pd.DataFrame(scene_perc_probability, columns=['no', 'yes'])\n",
    "combined_table=pd.concat([raw_data, scene_prob_df], axis=1)\n"
   ]
  },
  {
   "cell_type": "code",
   "execution_count": null,
   "id": "42ffb0c2ed504c88",
   "metadata": {
    "collapsed": false,
    "jupyter": {
     "outputs_hidden": false
    }
   },
   "outputs": [],
   "source": [
    "prediction_raw_combined=pd.concat([raw_data, scene_prob_df], axis=1)\n",
    "prediction_raw_combined.head()"
   ]
  },
  {
   "cell_type": "code",
   "execution_count": null,
   "id": "a0477676bccf432f",
   "metadata": {
    "collapsed": false,
    "jupyter": {
     "outputs_hidden": false
    }
   },
   "outputs": [],
   "source": [
    "#adapt to name of the predicted text\n",
    "combined_table.to_csv(r'/Users//Users/.../20250313_SIGHMU_Try_Scene_Change/predicted_texts/xxxx.csv')"
   ]
  },
  {
   "cell_type": "code",
   "execution_count": null,
   "id": "7d34e7dacc5d4045",
   "metadata": {
    "collapsed": false,
    "jupyter": {
     "outputs_hidden": false
    }
   },
   "outputs": [],
   "source": []
  }
 ],
 "metadata": {
  "kernelspec": {
   "display_name": "Python 3 (ipykernel)",
   "language": "python",
   "name": "python3"
  },
  "language_info": {
   "codemirror_mode": {
    "name": "ipython",
    "version": 3
   },
   "file_extension": ".py",
   "mimetype": "text/x-python",
   "name": "python",
   "nbconvert_exporter": "python",
   "pygments_lexer": "ipython3",
   "version": "3.11.8"
  }
 },
 "nbformat": 4,
 "nbformat_minor": 5
}
